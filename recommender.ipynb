{
 "cells": [
  {
   "cell_type": "code",
   "execution_count": 2,
   "metadata": {},
   "outputs": [],
   "source": [
    "# Import necessary libraries\n",
    "import pandas as pd\n",
    "import matplotlib.pyplot as plt\n",
    "import numpy as np"
   ]
  },
  {
   "cell_type": "code",
   "execution_count": 3,
   "metadata": {},
   "outputs": [
    {
     "name": "stdout",
     "output_type": "stream",
     "text": [
      "   movieId             title  userId  rating            timestamp\n",
      "0        1  Toy Story (1995)       3     4.0  1999-12-11 13:36:47\n",
      "1        1  Toy Story (1995)       6     5.0  1997-03-13 17:50:52\n",
      "2        1  Toy Story (1995)       8     4.0  1996-06-05 13:37:51\n",
      "3        1  Toy Story (1995)      10     4.0  1999-11-25 02:44:47\n",
      "4        1  Toy Story (1995)      11     4.5  2009-01-02 01:13:41\n"
     ]
    }
   ],
   "source": [
    "movies_df = pd.read_csv('movie.csv')\n",
    "ratings_df = pd.read_csv('rating.csv')\n",
    "\n",
    "df = pd.merge(movies_df, ratings_df, on ='movieId')\n",
    "# Drop the column 'genres' as we are not interested in it on this project\n",
    "df.drop(['genres'],axis=1,inplace=True)\n",
    "print(df.head())"
   ]
  },
  {
   "cell_type": "code",
   "execution_count": 4,
   "metadata": {},
   "outputs": [
    {
     "name": "stdout",
     "output_type": "stream",
     "text": [
      "   userId  movieId  rating\n",
      "0       3        1     4.0\n",
      "1       6        1     5.0\n",
      "2       8        1     4.0\n",
      "3      10        1     4.0\n",
      "4      11        1     4.5\n"
     ]
    }
   ],
   "source": [
    "# Filter the columns we are interested in analysing\n",
    "rating = df.loc[:,[\"userId\",\"movieId\",\"rating\"]]\n",
    "rating.columns\n",
    "print(rating.head())"
   ]
  },
  {
   "cell_type": "code",
   "execution_count": 5,
   "metadata": {},
   "outputs": [
    {
     "data": {
      "text/plain": [
       "(20000263, 3)"
      ]
     },
     "execution_count": 5,
     "metadata": {},
     "output_type": "execute_result"
    }
   ],
   "source": [
    "rating.shape"
   ]
  },
  {
   "cell_type": "code",
   "execution_count": 8,
   "metadata": {},
   "outputs": [
    {
     "data": {
      "text/html": [
       "<div>\n",
       "<style scoped>\n",
       "    .dataframe tbody tr th:only-of-type {\n",
       "        vertical-align: middle;\n",
       "    }\n",
       "\n",
       "    .dataframe tbody tr th {\n",
       "        vertical-align: top;\n",
       "    }\n",
       "\n",
       "    .dataframe thead th {\n",
       "        text-align: right;\n",
       "    }\n",
       "</style>\n",
       "<table border=\"1\" class=\"dataframe\">\n",
       "  <thead>\n",
       "    <tr style=\"text-align: right;\">\n",
       "      <th></th>\n",
       "      <th>movieId</th>\n",
       "      <th>userId</th>\n",
       "      <th>rating</th>\n",
       "    </tr>\n",
       "  </thead>\n",
       "  <tbody>\n",
       "    <tr>\n",
       "      <th>count</th>\n",
       "      <td>1000000.000000</td>\n",
       "      <td>1000000.000000</td>\n",
       "      <td>1000000.00000</td>\n",
       "    </tr>\n",
       "    <tr>\n",
       "      <th>mean</th>\n",
       "      <td>52.248951</td>\n",
       "      <td>69132.673651</td>\n",
       "      <td>3.56875</td>\n",
       "    </tr>\n",
       "    <tr>\n",
       "      <th>std</th>\n",
       "      <td>41.348656</td>\n",
       "      <td>40016.765553</td>\n",
       "      <td>1.05202</td>\n",
       "    </tr>\n",
       "    <tr>\n",
       "      <th>min</th>\n",
       "      <td>1.000000</td>\n",
       "      <td>1.000000</td>\n",
       "      <td>0.50000</td>\n",
       "    </tr>\n",
       "    <tr>\n",
       "      <th>25%</th>\n",
       "      <td>19.000000</td>\n",
       "      <td>34437.000000</td>\n",
       "      <td>3.00000</td>\n",
       "    </tr>\n",
       "    <tr>\n",
       "      <th>50%</th>\n",
       "      <td>42.000000</td>\n",
       "      <td>69262.500000</td>\n",
       "      <td>4.00000</td>\n",
       "    </tr>\n",
       "    <tr>\n",
       "      <th>75%</th>\n",
       "      <td>88.000000</td>\n",
       "      <td>103680.000000</td>\n",
       "      <td>4.00000</td>\n",
       "    </tr>\n",
       "    <tr>\n",
       "      <th>max</th>\n",
       "      <td>147.000000</td>\n",
       "      <td>138493.000000</td>\n",
       "      <td>5.00000</td>\n",
       "    </tr>\n",
       "  </tbody>\n",
       "</table>\n",
       "</div>"
      ],
      "text/plain": [
       "              movieId          userId         rating\n",
       "count  1000000.000000  1000000.000000  1000000.00000\n",
       "mean        52.248951    69132.673651        3.56875\n",
       "std         41.348656    40016.765553        1.05202\n",
       "min          1.000000        1.000000        0.50000\n",
       "25%         19.000000    34437.000000        3.00000\n",
       "50%         42.000000    69262.500000        4.00000\n",
       "75%         88.000000   103680.000000        4.00000\n",
       "max        147.000000   138493.000000        5.00000"
      ]
     },
     "execution_count": 8,
     "metadata": {},
     "output_type": "execute_result"
    }
   ],
   "source": [
    "# Concept : Always split your data set into Training, Testing and Validation\n",
    "df = df.iloc[:1000000]\n",
    "# Basic statistics of our dataset\n",
    "df.describe()"
   ]
  },
  {
   "cell_type": "code",
   "execution_count": 12,
   "metadata": {},
   "outputs": [
    {
     "data": {
      "text/plain": [
       "title\n",
       "Usual Suspects, The (1995)                   4.334372\n",
       "Taxi Driver (1976)                           4.110576\n",
       "Persuasion (1995)                            4.057546\n",
       "Seven (a.k.a. Se7en) (1995)                  4.053493\n",
       "Braveheart (1995)                            4.042534\n",
       "                                               ...   \n",
       "NeverEnding Story III, The (1994)            2.312137\n",
       "Lawnmower Man 2: Beyond Cyberspace (1996)    2.144243\n",
       "Gospa (1995)                                 2.142857\n",
       "Headless Body in Topless Bar (1995)          2.062500\n",
       "Kids of the Round Table (1995)               1.871429\n",
       "Name: rating, Length: 146, dtype: float64"
      ]
     },
     "execution_count": 12,
     "metadata": {},
     "output_type": "execute_result"
    }
   ],
   "source": [
    "# Group By title and sort the ratings for each movie title\n",
    "df.groupby(\"title\").mean()['rating'].sort_values(ascending=False)"
   ]
  },
  {
   "cell_type": "code",
   "execution_count": 13,
   "metadata": {},
   "outputs": [
    {
     "data": {
      "text/plain": [
       "title\n",
       "Braveheart (1995)                            53769\n",
       "Toy Story (1995)                             49695\n",
       "Usual Suspects, The (1995)                   47006\n",
       "Twelve Monkeys (a.k.a. 12 Monkeys) (1995)    44980\n",
       "Seven (a.k.a. Se7en) (1995)                  43249\n",
       "                                             ...  \n",
       "Sonic Outlaws (1995)                            36\n",
       "Guardian Angel (1994)                           27\n",
       "Nueba Yol (1995)                                19\n",
       "Headless Body in Topless Bar (1995)             16\n",
       "Gospa (1995)                                    14\n",
       "Name: rating, Length: 146, dtype: int64"
      ]
     },
     "execution_count": 13,
     "metadata": {},
     "output_type": "execute_result"
    }
   ],
   "source": [
    "df.groupby(\"title\").count()[\"rating\"].sort_values(ascending=False)"
   ]
  },
  {
   "cell_type": "code",
   "execution_count": 14,
   "metadata": {},
   "outputs": [
    {
     "name": "stdout",
     "output_type": "stream",
     "text": [
      "                                         rating  number of ratings\n",
      "title                                                             \n",
      "Ace Ventura: When Nature Calls (1995)  2.607412              20938\n",
      "Across the Sea of Time (1995)          3.017647                 85\n",
      "Amazing Panda Adventure, The (1995)    2.912069                580\n",
      "American President, The (1995)         3.667713              18162\n",
      "Angela (1995)                          3.115385                 39\n"
     ]
    }
   ],
   "source": [
    "# Create a DF for ratings\n",
    "ratings=pd.DataFrame(df.groupby(\"title\").mean()['rating'])\n",
    "ratings['number of ratings'] = pd.DataFrame(df.groupby(\"title\").count()[\"rating\"])\n",
    "\n",
    "print(ratings.head())\n"
   ]
  },
  {
   "cell_type": "code",
   "execution_count": 15,
   "metadata": {},
   "outputs": [
    {
     "data": {
      "text/html": [
       "<div>\n",
       "<style scoped>\n",
       "    .dataframe tbody tr th:only-of-type {\n",
       "        vertical-align: middle;\n",
       "    }\n",
       "\n",
       "    .dataframe tbody tr th {\n",
       "        vertical-align: top;\n",
       "    }\n",
       "\n",
       "    .dataframe thead th {\n",
       "        text-align: right;\n",
       "    }\n",
       "</style>\n",
       "<table border=\"1\" class=\"dataframe\">\n",
       "  <thead>\n",
       "    <tr style=\"text-align: right;\">\n",
       "      <th></th>\n",
       "      <th>rating</th>\n",
       "      <th>number of ratings</th>\n",
       "    </tr>\n",
       "    <tr>\n",
       "      <th>title</th>\n",
       "      <th></th>\n",
       "      <th></th>\n",
       "    </tr>\n",
       "  </thead>\n",
       "  <tbody>\n",
       "    <tr>\n",
       "      <th>Usual Suspects, The (1995)</th>\n",
       "      <td>4.334372</td>\n",
       "      <td>47006</td>\n",
       "    </tr>\n",
       "    <tr>\n",
       "      <th>Taxi Driver (1976)</th>\n",
       "      <td>4.110576</td>\n",
       "      <td>24481</td>\n",
       "    </tr>\n",
       "    <tr>\n",
       "      <th>Persuasion (1995)</th>\n",
       "      <td>4.057546</td>\n",
       "      <td>3154</td>\n",
       "    </tr>\n",
       "    <tr>\n",
       "      <th>Seven (a.k.a. Se7en) (1995)</th>\n",
       "      <td>4.053493</td>\n",
       "      <td>43249</td>\n",
       "    </tr>\n",
       "    <tr>\n",
       "      <th>Braveheart (1995)</th>\n",
       "      <td>4.042534</td>\n",
       "      <td>53769</td>\n",
       "    </tr>\n",
       "    <tr>\n",
       "      <th>...</th>\n",
       "      <td>...</td>\n",
       "      <td>...</td>\n",
       "    </tr>\n",
       "    <tr>\n",
       "      <th>NeverEnding Story III, The (1994)</th>\n",
       "      <td>2.312137</td>\n",
       "      <td>1376</td>\n",
       "    </tr>\n",
       "    <tr>\n",
       "      <th>Lawnmower Man 2: Beyond Cyberspace (1996)</th>\n",
       "      <td>2.144243</td>\n",
       "      <td>2371</td>\n",
       "    </tr>\n",
       "    <tr>\n",
       "      <th>Gospa (1995)</th>\n",
       "      <td>2.142857</td>\n",
       "      <td>14</td>\n",
       "    </tr>\n",
       "    <tr>\n",
       "      <th>Headless Body in Topless Bar (1995)</th>\n",
       "      <td>2.062500</td>\n",
       "      <td>16</td>\n",
       "    </tr>\n",
       "    <tr>\n",
       "      <th>Kids of the Round Table (1995)</th>\n",
       "      <td>1.871429</td>\n",
       "      <td>70</td>\n",
       "    </tr>\n",
       "  </tbody>\n",
       "</table>\n",
       "<p>146 rows × 2 columns</p>\n",
       "</div>"
      ],
      "text/plain": [
       "                                             rating  number of ratings\n",
       "title                                                                 \n",
       "Usual Suspects, The (1995)                 4.334372              47006\n",
       "Taxi Driver (1976)                         4.110576              24481\n",
       "Persuasion (1995)                          4.057546               3154\n",
       "Seven (a.k.a. Se7en) (1995)                4.053493              43249\n",
       "Braveheart (1995)                          4.042534              53769\n",
       "...                                             ...                ...\n",
       "NeverEnding Story III, The (1994)          2.312137               1376\n",
       "Lawnmower Man 2: Beyond Cyberspace (1996)  2.144243               2371\n",
       "Gospa (1995)                               2.142857                 14\n",
       "Headless Body in Topless Bar (1995)        2.062500                 16\n",
       "Kids of the Round Table (1995)             1.871429                 70\n",
       "\n",
       "[146 rows x 2 columns]"
      ]
     },
     "execution_count": 15,
     "metadata": {},
     "output_type": "execute_result"
    }
   ],
   "source": [
    "ratings.sort_values(by='rating', ascending=False)"
   ]
  },
  {
   "cell_type": "code",
   "execution_count": 16,
   "metadata": {},
   "outputs": [
    {
     "data": {
      "text/html": [
       "<div>\n",
       "<style scoped>\n",
       "    .dataframe tbody tr th:only-of-type {\n",
       "        vertical-align: middle;\n",
       "    }\n",
       "\n",
       "    .dataframe tbody tr th {\n",
       "        vertical-align: top;\n",
       "    }\n",
       "\n",
       "    .dataframe thead th {\n",
       "        text-align: right;\n",
       "    }\n",
       "</style>\n",
       "<table border=\"1\" class=\"dataframe\">\n",
       "  <thead>\n",
       "    <tr style=\"text-align: right;\">\n",
       "      <th></th>\n",
       "      <th>rating</th>\n",
       "      <th>number of ratings</th>\n",
       "    </tr>\n",
       "  </thead>\n",
       "  <tbody>\n",
       "    <tr>\n",
       "      <th>count</th>\n",
       "      <td>146.000000</td>\n",
       "      <td>146.000000</td>\n",
       "    </tr>\n",
       "    <tr>\n",
       "      <th>mean</th>\n",
       "      <td>3.282091</td>\n",
       "      <td>6849.315068</td>\n",
       "    </tr>\n",
       "    <tr>\n",
       "      <th>std</th>\n",
       "      <td>0.464475</td>\n",
       "      <td>10554.093747</td>\n",
       "    </tr>\n",
       "    <tr>\n",
       "      <th>min</th>\n",
       "      <td>1.871429</td>\n",
       "      <td>14.000000</td>\n",
       "    </tr>\n",
       "    <tr>\n",
       "      <th>25%</th>\n",
       "      <td>3.056590</td>\n",
       "      <td>576.250000</td>\n",
       "    </tr>\n",
       "    <tr>\n",
       "      <th>50%</th>\n",
       "      <td>3.310810</td>\n",
       "      <td>2545.000000</td>\n",
       "    </tr>\n",
       "    <tr>\n",
       "      <th>75%</th>\n",
       "      <td>3.584594</td>\n",
       "      <td>8382.750000</td>\n",
       "    </tr>\n",
       "    <tr>\n",
       "      <th>max</th>\n",
       "      <td>4.334372</td>\n",
       "      <td>53769.000000</td>\n",
       "    </tr>\n",
       "  </tbody>\n",
       "</table>\n",
       "</div>"
      ],
      "text/plain": [
       "           rating  number of ratings\n",
       "count  146.000000         146.000000\n",
       "mean     3.282091        6849.315068\n",
       "std      0.464475       10554.093747\n",
       "min      1.871429          14.000000\n",
       "25%      3.056590         576.250000\n",
       "50%      3.310810        2545.000000\n",
       "75%      3.584594        8382.750000\n",
       "max      4.334372       53769.000000"
      ]
     },
     "execution_count": 16,
     "metadata": {},
     "output_type": "execute_result"
    }
   ],
   "source": [
    "ratings.describe()"
   ]
  },
  {
   "cell_type": "code",
   "execution_count": 17,
   "metadata": {},
   "outputs": [
    {
     "data": {
      "image/png": "[encoded data removed]",
      "text/plain": [
       "<Figure size 640x480 with 1 Axes>"
      ]
     },
     "metadata": {},
     "output_type": "display_data"
    }
   ],
   "source": [
    "plt.hist(ratings['rating'])\n",
    "plt.show()\n",
    "# It is conclusive that there anren't any movies with a rating of 5"
   ]
  },
  {
   "cell_type": "code",
   "execution_count": 157,
   "metadata": {},
   "outputs": [
    {
     "data": {
      "text/plain": [
       "<function matplotlib.pyplot.show(close=None, block=None)>"
      ]
     },
     "execution_count": 157,
     "metadata": {},
     "output_type": "execute_result"
    },
    {
     "data": {
      "image/png": "[encoded data removed]",
      "text/plain": [
       "<Figure size 640x480 with 1 Axes>"
      ]
     },
     "metadata": {},
     "output_type": "display_data"
    }
   ],
   "source": [
    "plt.hist(ratings['number of ratings'],bins=50)\n",
    "plt.show"
   ]
  },
  {
   "cell_type": "markdown",
   "metadata": {},
   "source": [
    "## Recommendation System"
   ]
  },
  {
   "cell_type": "code",
   "execution_count": 18,
   "metadata": {},
   "outputs": [
    {
     "data": {
      "text/html": [
       "<div>\n",
       "<style scoped>\n",
       "    .dataframe tbody tr th:only-of-type {\n",
       "        vertical-align: middle;\n",
       "    }\n",
       "\n",
       "    .dataframe tbody tr th {\n",
       "        vertical-align: top;\n",
       "    }\n",
       "\n",
       "    .dataframe thead th {\n",
       "        text-align: right;\n",
       "    }\n",
       "</style>\n",
       "<table border=\"1\" class=\"dataframe\">\n",
       "  <thead>\n",
       "    <tr style=\"text-align: right;\">\n",
       "      <th>title</th>\n",
       "      <th>Ace Ventura: When Nature Calls (1995)</th>\n",
       "      <th>Across the Sea of Time (1995)</th>\n",
       "      <th>Amazing Panda Adventure, The (1995)</th>\n",
       "      <th>American President, The (1995)</th>\n",
       "      <th>Angela (1995)</th>\n",
       "      <th>Angels and Insects (1995)</th>\n",
       "      <th>Anne Frank Remembered (1995)</th>\n",
       "      <th>Antonia's Line (Antonia) (1995)</th>\n",
       "      <th>Assassins (1995)</th>\n",
       "      <th>Babe (1995)</th>\n",
       "      <th>...</th>\n",
       "      <th>Unforgettable (1996)</th>\n",
       "      <th>Up Close and Personal (1996)</th>\n",
       "      <th>Usual Suspects, The (1995)</th>\n",
       "      <th>Vampire in Brooklyn (1995)</th>\n",
       "      <th>Waiting to Exhale (1995)</th>\n",
       "      <th>When Night Is Falling (1995)</th>\n",
       "      <th>White Balloon, The (Badkonake sefid) (1995)</th>\n",
       "      <th>White Squall (1996)</th>\n",
       "      <th>Wings of Courage (1995)</th>\n",
       "      <th>Young Poisoner's Handbook, The (1995)</th>\n",
       "    </tr>\n",
       "    <tr>\n",
       "      <th>userId</th>\n",
       "      <th></th>\n",
       "      <th></th>\n",
       "      <th></th>\n",
       "      <th></th>\n",
       "      <th></th>\n",
       "      <th></th>\n",
       "      <th></th>\n",
       "      <th></th>\n",
       "      <th></th>\n",
       "      <th></th>\n",
       "      <th></th>\n",
       "      <th></th>\n",
       "      <th></th>\n",
       "      <th></th>\n",
       "      <th></th>\n",
       "      <th></th>\n",
       "      <th></th>\n",
       "      <th></th>\n",
       "      <th></th>\n",
       "      <th></th>\n",
       "      <th></th>\n",
       "    </tr>\n",
       "  </thead>\n",
       "  <tbody>\n",
       "    <tr>\n",
       "      <th>1</th>\n",
       "      <td>NaN</td>\n",
       "      <td>NaN</td>\n",
       "      <td>NaN</td>\n",
       "      <td>NaN</td>\n",
       "      <td>NaN</td>\n",
       "      <td>NaN</td>\n",
       "      <td>NaN</td>\n",
       "      <td>NaN</td>\n",
       "      <td>NaN</td>\n",
       "      <td>NaN</td>\n",
       "      <td>...</td>\n",
       "      <td>NaN</td>\n",
       "      <td>NaN</td>\n",
       "      <td>3.5</td>\n",
       "      <td>NaN</td>\n",
       "      <td>NaN</td>\n",
       "      <td>NaN</td>\n",
       "      <td>NaN</td>\n",
       "      <td>NaN</td>\n",
       "      <td>NaN</td>\n",
       "      <td>NaN</td>\n",
       "    </tr>\n",
       "    <tr>\n",
       "      <th>2</th>\n",
       "      <td>NaN</td>\n",
       "      <td>NaN</td>\n",
       "      <td>NaN</td>\n",
       "      <td>NaN</td>\n",
       "      <td>NaN</td>\n",
       "      <td>NaN</td>\n",
       "      <td>NaN</td>\n",
       "      <td>NaN</td>\n",
       "      <td>NaN</td>\n",
       "      <td>NaN</td>\n",
       "      <td>...</td>\n",
       "      <td>NaN</td>\n",
       "      <td>NaN</td>\n",
       "      <td>NaN</td>\n",
       "      <td>NaN</td>\n",
       "      <td>NaN</td>\n",
       "      <td>NaN</td>\n",
       "      <td>NaN</td>\n",
       "      <td>NaN</td>\n",
       "      <td>NaN</td>\n",
       "      <td>NaN</td>\n",
       "    </tr>\n",
       "    <tr>\n",
       "      <th>3</th>\n",
       "      <td>NaN</td>\n",
       "      <td>NaN</td>\n",
       "      <td>NaN</td>\n",
       "      <td>NaN</td>\n",
       "      <td>NaN</td>\n",
       "      <td>NaN</td>\n",
       "      <td>NaN</td>\n",
       "      <td>NaN</td>\n",
       "      <td>NaN</td>\n",
       "      <td>NaN</td>\n",
       "      <td>...</td>\n",
       "      <td>NaN</td>\n",
       "      <td>NaN</td>\n",
       "      <td>5.0</td>\n",
       "      <td>NaN</td>\n",
       "      <td>NaN</td>\n",
       "      <td>NaN</td>\n",
       "      <td>NaN</td>\n",
       "      <td>NaN</td>\n",
       "      <td>NaN</td>\n",
       "      <td>NaN</td>\n",
       "    </tr>\n",
       "    <tr>\n",
       "      <th>4</th>\n",
       "      <td>3.0</td>\n",
       "      <td>NaN</td>\n",
       "      <td>NaN</td>\n",
       "      <td>NaN</td>\n",
       "      <td>NaN</td>\n",
       "      <td>NaN</td>\n",
       "      <td>NaN</td>\n",
       "      <td>NaN</td>\n",
       "      <td>NaN</td>\n",
       "      <td>NaN</td>\n",
       "      <td>...</td>\n",
       "      <td>NaN</td>\n",
       "      <td>NaN</td>\n",
       "      <td>NaN</td>\n",
       "      <td>NaN</td>\n",
       "      <td>NaN</td>\n",
       "      <td>NaN</td>\n",
       "      <td>NaN</td>\n",
       "      <td>NaN</td>\n",
       "      <td>NaN</td>\n",
       "      <td>NaN</td>\n",
       "    </tr>\n",
       "    <tr>\n",
       "      <th>5</th>\n",
       "      <td>NaN</td>\n",
       "      <td>NaN</td>\n",
       "      <td>NaN</td>\n",
       "      <td>5.0</td>\n",
       "      <td>NaN</td>\n",
       "      <td>NaN</td>\n",
       "      <td>NaN</td>\n",
       "      <td>NaN</td>\n",
       "      <td>NaN</td>\n",
       "      <td>NaN</td>\n",
       "      <td>...</td>\n",
       "      <td>NaN</td>\n",
       "      <td>2.0</td>\n",
       "      <td>NaN</td>\n",
       "      <td>NaN</td>\n",
       "      <td>NaN</td>\n",
       "      <td>NaN</td>\n",
       "      <td>NaN</td>\n",
       "      <td>NaN</td>\n",
       "      <td>NaN</td>\n",
       "      <td>NaN</td>\n",
       "    </tr>\n",
       "  </tbody>\n",
       "</table>\n",
       "<p>5 rows × 146 columns</p>\n",
       "</div>"
      ],
      "text/plain": [
       "title   Ace Ventura: When Nature Calls (1995)  Across the Sea of Time (1995)  \\\n",
       "userId                                                                         \n",
       "1                                         NaN                            NaN   \n",
       "2                                         NaN                            NaN   \n",
       "3                                         NaN                            NaN   \n",
       "4                                         3.0                            NaN   \n",
       "5                                         NaN                            NaN   \n",
       "\n",
       "title   Amazing Panda Adventure, The (1995)  American President, The (1995)  \\\n",
       "userId                                                                        \n",
       "1                                       NaN                             NaN   \n",
       "2                                       NaN                             NaN   \n",
       "3                                       NaN                             NaN   \n",
       "4                                       NaN                             NaN   \n",
       "5                                       NaN                             5.0   \n",
       "\n",
       "title   Angela (1995)  Angels and Insects (1995)  \\\n",
       "userId                                             \n",
       "1                 NaN                        NaN   \n",
       "2                 NaN                        NaN   \n",
       "3                 NaN                        NaN   \n",
       "4                 NaN                        NaN   \n",
       "5                 NaN                        NaN   \n",
       "\n",
       "title   Anne Frank Remembered (1995)  Antonia's Line (Antonia) (1995)  \\\n",
       "userId                                                                  \n",
       "1                                NaN                              NaN   \n",
       "2                                NaN                              NaN   \n",
       "3                                NaN                              NaN   \n",
       "4                                NaN                              NaN   \n",
       "5                                NaN                              NaN   \n",
       "\n",
       "title   Assassins (1995)  Babe (1995)  ...  Unforgettable (1996)  \\\n",
       "userId                                 ...                         \n",
       "1                    NaN          NaN  ...                   NaN   \n",
       "2                    NaN          NaN  ...                   NaN   \n",
       "3                    NaN          NaN  ...                   NaN   \n",
       "4                    NaN          NaN  ...                   NaN   \n",
       "5                    NaN          NaN  ...                   NaN   \n",
       "\n",
       "title   Up Close and Personal (1996)  Usual Suspects, The (1995)  \\\n",
       "userId                                                             \n",
       "1                                NaN                         3.5   \n",
       "2                                NaN                         NaN   \n",
       "3                                NaN                         5.0   \n",
       "4                                NaN                         NaN   \n",
       "5                                2.0                         NaN   \n",
       "\n",
       "title   Vampire in Brooklyn (1995)  Waiting to Exhale (1995)  \\\n",
       "userId                                                         \n",
       "1                              NaN                       NaN   \n",
       "2                              NaN                       NaN   \n",
       "3                              NaN                       NaN   \n",
       "4                              NaN                       NaN   \n",
       "5                              NaN                       NaN   \n",
       "\n",
       "title   When Night Is Falling (1995)  \\\n",
       "userId                                 \n",
       "1                                NaN   \n",
       "2                                NaN   \n",
       "3                                NaN   \n",
       "4                                NaN   \n",
       "5                                NaN   \n",
       "\n",
       "title   White Balloon, The (Badkonake sefid) (1995)  White Squall (1996)  \\\n",
       "userId                                                                     \n",
       "1                                               NaN                  NaN   \n",
       "2                                               NaN                  NaN   \n",
       "3                                               NaN                  NaN   \n",
       "4                                               NaN                  NaN   \n",
       "5                                               NaN                  NaN   \n",
       "\n",
       "title   Wings of Courage (1995)  Young Poisoner's Handbook, The (1995)  \n",
       "userId                                                                  \n",
       "1                           NaN                                    NaN  \n",
       "2                           NaN                                    NaN  \n",
       "3                           NaN                                    NaN  \n",
       "4                           NaN                                    NaN  \n",
       "5                           NaN                                    NaN  \n",
       "\n",
       "[5 rows x 146 columns]"
      ]
     },
     "execution_count": 18,
     "metadata": {},
     "output_type": "execute_result"
    }
   ],
   "source": [
    "pivot_table = df.pivot_table(index=[\"userId\"], columns=[\"title\"], values =\"rating\")\n",
    "pivot_table.head(5)"
   ]
  },
  {
   "cell_type": "code",
   "execution_count": 19,
   "metadata": {},
   "outputs": [],
   "source": [
    "# Function to recommend a movie with their correlation score. Note that higher the correlation more the movie related to each other\n",
    "def recommend_movie(movie):\n",
    "    movie_watched = pivot_table[movie]\n",
    "    similarity_with_other_movies = pivot_table.corrwith(movie_watched)  # find correlation between \"Toy Story (1995)\" and other movies\n",
    "    similarity_with_other_movies = similarity_with_other_movies.sort_values(ascending=False)\n",
    "    return similarity_with_other_movies.head()\n"
   ]
  },
  {
   "cell_type": "code",
   "execution_count": 21,
   "metadata": {},
   "outputs": [
    {
     "data": {
      "text/plain": [
       "title\n",
       "Jumanji (1995)         1.000000\n",
       "Gospa (1995)           0.773574\n",
       "Target (1995)          0.636314\n",
       "Catwalk (1996)         0.511840\n",
       "It Takes Two (1995)    0.480742\n",
       "dtype: float64"
      ]
     },
     "execution_count": 21,
     "metadata": {},
     "output_type": "execute_result"
    }
   ],
   "source": [
    "recommend_movie('Jumanji (1995)')"
   ]
  },
  {
   "cell_type": "code",
   "execution_count": 24,
   "metadata": {},
   "outputs": [
    {
     "data": {
      "text/plain": [
       "title\n",
       "Unforgettable (1996)                          1.000000\n",
       "Nobody Loves Me (Keiner liebt mich) (1994)    0.970725\n",
       "Headless Body in Topless Bar (1995)           0.960769\n",
       "Target (1995)                                 0.923381\n",
       "Shadows (Cienie) (1988)                       0.804476\n",
       "dtype: float64"
      ]
     },
     "execution_count": 24,
     "metadata": {},
     "output_type": "execute_result"
    }
   ],
   "source": [
    "recommend_movie(\"Unforgettable (1996)\")"
   ]
  },
  {
   "cell_type": "markdown",
   "metadata": {},
   "source": [
    "To DIY : Pick a movie from the dataset and use the above function to get a recommendation. Make sure to use the exact string as the title name in the dataset. Feel free to modify the dataset as you wish, but make sure to fill in all the columns."
   ]
  }
 ],
 "metadata": {
  "kernelspec": {
   "display_name": "base",
   "language": "python",
   "name": "python3"
  },
  "language_info": {
   "codemirror_mode": {
    "name": "ipython",
    "version": 3
   },
   "file_extension": ".py",
   "mimetype": "text/x-python",
   "name": "python",
   "nbconvert_exporter": "python",
   "pygments_lexer": "ipython3",
   "version": "3.8.8"
  }
 },
 "nbformat": 4,
 "nbformat_minor": 2
}
